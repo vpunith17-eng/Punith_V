{
  "nbformat": 4,
  "nbformat_minor": 0,
  "metadata": {
    "colab": {
      "provenance": []
    },
    "kernelspec": {
      "name": "python3",
      "display_name": "Python 3"
    },
    "language_info": {
      "name": "python"
    }
  },
  "cells": [
    {
      "cell_type": "code",
      "execution_count": 1,
      "metadata": {
        "colab": {
          "base_uri": "https://localhost:8080/"
        },
        "id": "hqv_EgpT5umQ",
        "outputId": "36917790-c731-49fd-8218-a4db088245b2"
      },
      "outputs": [
        {
          "output_type": "stream",
          "name": "stdout",
          "text": [
            "[[-2  2 -2]\n",
            " [ 4 -2  6]\n",
            " [-2  8 -2]]\n"
          ]
        }
      ],
      "source": [
        "import numpy as np\n",
        "\n",
        "# Given list\n",
        "Lst = [[1, 2, 3], [4, 5, 6], [7, 8, 9]]\n",
        "\n",
        "# Convert list to numpy array\n",
        "array = np.array(Lst)\n",
        "\n",
        "# Replace odd elements with -2\n",
        "array[array % 2 != 0] = -2\n",
        "\n",
        "print(array)\n"
      ]
    },
    {
      "cell_type": "code",
      "source": [
        "import numpy as np\n",
        "\n",
        "# Given array\n",
        "arr = [1, 2, 3, 4, 5, 8, 9, 10, 12, 22, 32, 54, 99, 6, 7]\n",
        "\n",
        "# Convert to numpy array\n",
        "arr = np.array(arr)\n",
        "\n",
        "# Find elements between 8 and 15\n",
        "result = arr[(arr >= 8) & (arr <= 15)]\n",
        "\n",
        "print(result)\n"
      ],
      "metadata": {
        "colab": {
          "base_uri": "https://localhost:8080/"
        },
        "id": "AgtoudA06JPZ",
        "outputId": "dae61c4b-8940-46ea-b51a-7b8bf9cdd624"
      },
      "execution_count": 2,
      "outputs": [
        {
          "output_type": "stream",
          "name": "stdout",
          "text": [
            "[ 8  9 10 12]\n"
          ]
        }
      ]
    },
    {
      "cell_type": "code",
      "source": [
        "import numpy as np\n",
        "\n",
        "# Create a 3x3 array with numbers from 1 to 9\n",
        "array = np.arange(1, 10).reshape(3, 3)\n",
        "\n",
        "# Swap columns 1 and 2\n",
        "array[:, [0, 1]] = array[:, [1, 0]]\n",
        "\n",
        "print(array)\n"
      ],
      "metadata": {
        "colab": {
          "base_uri": "https://localhost:8080/"
        },
        "id": "inTQlCnv6W_K",
        "outputId": "96b2b03e-3fc3-4ed9-e746-4918663ba374"
      },
      "execution_count": 3,
      "outputs": [
        {
          "output_type": "stream",
          "name": "stdout",
          "text": [
            "[[2 1 3]\n",
            " [5 4 6]\n",
            " [8 7 9]]\n"
          ]
        }
      ]
    },
    {
      "cell_type": "code",
      "source": [
        "import numpy as np\n",
        "\n",
        "# Given array\n",
        "arr = np.array([[1.3, 2.5, 3.6, np.nan],\n",
        "                [2.6, 3.3, np.nan, 5.5],\n",
        "                [2.1, 3.2, 5.4, 6.5]])\n",
        "\n",
        "# Calculate the column-wise mean, ignoring NaN values\n",
        "col_mean = np.nanmean(arr, axis=0)\n",
        "\n",
        "# Find indices where NaN values are present\n",
        "inds = np.where(np.isnan(arr))\n",
        "\n",
        "# Replace NaN values with the corresponding mean of the column\n",
        "arr[inds] = np.take(col_mean, inds[1])\n",
        "\n",
        "print(arr)\n"
      ],
      "metadata": {
        "colab": {
          "base_uri": "https://localhost:8080/"
        },
        "id": "V697T7mZ6g3d",
        "outputId": "c8e31a04-ad0d-46d2-d97f-e5d2c97a7f1d"
      },
      "execution_count": 4,
      "outputs": [
        {
          "output_type": "stream",
          "name": "stdout",
          "text": [
            "[[1.3 2.5 3.6 6. ]\n",
            " [2.6 3.3 4.5 5.5]\n",
            " [2.1 3.2 5.4 6.5]]\n"
          ]
        }
      ]
    },
    {
      "cell_type": "code",
      "source": [
        "import numpy as np\n",
        "\n",
        "# Given array\n",
        "arr = np.array([[2, 4, 6], [1, 3, 5]])\n",
        "\n",
        "# Convert array to matrix\n",
        "matrix = np.matrix(arr)\n",
        "print(\"Matrix:\\n\", matrix)\n",
        "# Sort the matrix\n",
        "sorted_matrix = np.sort(matrix, axis=None).reshape(matrix.shape)\n",
        "print(\"Sorted Matrix:\\n\", sorted_matrix)\n"
      ],
      "metadata": {
        "colab": {
          "base_uri": "https://localhost:8080/"
        },
        "id": "kj5HWe5k6xkX",
        "outputId": "b3dfe294-d9f5-42d4-a425-f4497c2905fc"
      },
      "execution_count": 6,
      "outputs": [
        {
          "output_type": "stream",
          "name": "stdout",
          "text": [
            "Matrix:\n",
            " [[2 4 6]\n",
            " [1 3 5]]\n",
            "Sorted Matrix:\n",
            " [[1 2 3]\n",
            " [4 5 6]]\n"
          ]
        }
      ]
    }
  ]
}